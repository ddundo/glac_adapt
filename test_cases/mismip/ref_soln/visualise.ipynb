{
 "cells": [
  {
   "cell_type": "code",
   "execution_count": 1,
   "metadata": {},
   "outputs": [
    {
     "name": "stderr",
     "output_type": "stream",
     "text": [
      "firedrake:WARNING OMP_NUM_THREADS is not set or is set to a value greater than 1, we suggest setting OMP_NUM_THREADS=1 to improve performance\n"
     ]
    }
   ],
   "source": [
    "from firedrake import *\n",
    "import matplotlib.pyplot as plt\n",
    "import numpy as np\n",
    "from icepack import compute_surface\n",
    "from icepack.constants import ice_density as rho_I, water_density as rho_W\n",
    "from glac_adapt.adapt import mismip_bed_topography\n"
   ]
  },
  {
   "cell_type": "code",
   "execution_count": 21,
   "metadata": {},
   "outputs": [],
   "source": [
    "path = '/data/glac_adapt/test_cases/mismip/ref_soln/output'\n",
    "\n",
    "def get_haf(h, s, Q):\n",
    "    return interpolate(s - (1 - rho_I / rho_W) * h, Q)\n",
    "\n",
    "def get_volumes(name, idx, input_mesh):\n",
    "    fpath = f\"{path}/{name}.h5\"\n",
    "\n",
    "    with CheckpointFile(fpath, 'r') as afile:\n",
    "        # mesh = afile.load_mesh(\"firedrake_default\")\n",
    "        volumes = []\n",
    "        for i in range(idx+1):\n",
    "            h = afile.load_function(input_mesh, \"thickness\", idx=i)\n",
    "            volumes.append(assemble(h*dx) / (1e9 * 917))\n",
    "    \n",
    "    return volumes\n",
    "\n",
    "def load_fields(name, idx, volume=True):\n",
    "    fpath = f\"{path}/{name}.h5\"\n",
    "\n",
    "    with CheckpointFile(fpath, 'r') as afile:\n",
    "        mesh = afile.load_mesh(\"firedrake_default\")\n",
    "        if volume:\n",
    "            volumes = []\n",
    "            for i in range(idx+1):\n",
    "                h = afile.load_function(mesh, \"thickness\", idx=i)\n",
    "                volumes.append(assemble(h*dx))\n",
    "                u = afile.load_function(mesh, \"velocity\", idx=i)\n",
    "        else:\n",
    "            h = afile.load_function(mesh, \"thickness\", idx=idx)\n",
    "            u = afile.load_function(mesh, \"velocity\", idx=idx)\n",
    "\n",
    "    z_b = mismip_bed_topography(mesh, 80e3)\n",
    "    s = compute_surface(thickness=h, bed=z_b)\n",
    "\n",
    "    Q = FunctionSpace(mesh, \"CG\", 1)\n",
    "    haf = get_haf(h, s, Q)\n",
    "\n",
    "    if volume:\n",
    "        volumes = np.array(volumes) / (1e9 * 917)\n",
    "        return u, h, haf, volumes\n",
    "    \n",
    "    return u, h, haf\n",
    "\n",
    "def plot_grounding_line(*hafs, colors=None, labels=None):\n",
    "    n_hafs = len(hafs)\n",
    "    \n",
    "    levels = [-0.1, 0.01]\n",
    "    fig, axes = plt.subplots(figsize=(13, 4))\n",
    "    axes.set_xlim([440e3, 530e3])\n",
    "\n",
    "    for i in range(n_hafs):\n",
    "        im = tricontour(hafs[i], levels=levels, axes=axes, colors=colors[i], label=\"a\")#labels[i])\n",
    "\n",
    "    axes.legend(loc=\"best\")\n",
    "\n",
    "    return fig, axes"
   ]
  },
  {
   "cell_type": "code",
   "execution_count": 42,
   "metadata": {},
   "outputs": [
    {
     "data": {
      "text/plain": [
       "<petsc4py.PETSc.SF at 0x7f169fe3e720>"
      ]
     },
     "execution_count": 42,
     "metadata": {},
     "output_type": "execute_result"
    }
   ],
   "source": [
    "coarse_mesh = RectangleMesh(320, 40, 640e3, 80e3)\n",
    "fpath = f\"{path}/steady-state-0.h5\"\n",
    "# with CheckpointFile(fpath, 'r') as afile:\n",
    "#     test_mesh = afile.load_mesh(\"firedrake_default\")\n",
    "\n",
    "with CheckpointFile('test.h5', 'w') as afile:\n",
    "    afile.save_mesh(coarse_mesh)\n",
    "\n",
    "with CheckpointFile('test.h5', 'r') as afile:\n",
    "    test_mesh = afile.load_mesh(\"firedrake_default\")\n",
    "\n",
    "test_mesh.sfXC"
   ]
  },
  {
   "cell_type": "code",
   "execution_count": 45,
   "metadata": {},
   "outputs": [
    {
     "ename": "AttributeError",
     "evalue": "'MeshTopology' object has no attribute 'sfXC'",
     "output_type": "error",
     "traceback": [
      "\u001b[0;31m---------------------------------------------------------------------------\u001b[0m",
      "\u001b[0;31mAttributeError\u001b[0m                            Traceback (most recent call last)",
      "Cell \u001b[0;32mIn[45], line 4\u001b[0m\n\u001b[1;32m      1\u001b[0m \u001b[39m# coarse_mesh = RectangleMesh(320, 40, 640e3, 80e3)\u001b[39;00m\n\u001b[1;32m      2\u001b[0m mesh_hierarchy \u001b[39m=\u001b[39m MeshHierarchy(coarse_mesh, \u001b[39m1\u001b[39m)\n\u001b[0;32m----> 4\u001b[0m volumes \u001b[39m=\u001b[39m get_volumes(\u001b[39m'\u001b[39;49m\u001b[39msteady-state-0\u001b[39;49m\u001b[39m'\u001b[39;49m, \u001b[39m12\u001b[39;49m, mesh_hierarchy[\u001b[39m0\u001b[39;49m])\n",
      "Cell \u001b[0;32mIn[21], line 13\u001b[0m, in \u001b[0;36mget_volumes\u001b[0;34m(name, idx, input_mesh)\u001b[0m\n\u001b[1;32m     11\u001b[0m     volumes \u001b[39m=\u001b[39m []\n\u001b[1;32m     12\u001b[0m     \u001b[39mfor\u001b[39;00m i \u001b[39min\u001b[39;00m \u001b[39mrange\u001b[39m(idx\u001b[39m+\u001b[39m\u001b[39m1\u001b[39m):\n\u001b[0;32m---> 13\u001b[0m         h \u001b[39m=\u001b[39m afile\u001b[39m.\u001b[39;49mload_function(input_mesh, \u001b[39m\"\u001b[39;49m\u001b[39mthickness\u001b[39;49m\u001b[39m\"\u001b[39;49m, idx\u001b[39m=\u001b[39;49mi)\n\u001b[1;32m     14\u001b[0m         volumes\u001b[39m.\u001b[39mappend(assemble(h\u001b[39m*\u001b[39mdx) \u001b[39m/\u001b[39m (\u001b[39m1e9\u001b[39m \u001b[39m*\u001b[39m \u001b[39m917\u001b[39m))\n\u001b[1;32m     16\u001b[0m \u001b[39mreturn\u001b[39;00m volumes\n",
      "File \u001b[0;32mPETSc/Log.pyx:115\u001b[0m, in \u001b[0;36mpetsc4py.PETSc.Log.EventDecorator.decorator.wrapped_func\u001b[0;34m()\u001b[0m\n",
      "File \u001b[0;32mPETSc/Log.pyx:116\u001b[0m, in \u001b[0;36mpetsc4py.PETSc.Log.EventDecorator.decorator.wrapped_func\u001b[0;34m()\u001b[0m\n",
      "File \u001b[0;32m~/software/firedrake-adapt/src/firedrake/firedrake/checkpointing.py:1147\u001b[0m, in \u001b[0;36mCheckpointFile.load_function\u001b[0;34m(self, mesh, name, idx)\u001b[0m\n\u001b[1;32m   1145\u001b[0m tmesh_name \u001b[39m=\u001b[39m \u001b[39mself\u001b[39m\u001b[39m.\u001b[39m_get_mesh_name_topology_name_map()[mesh\u001b[39m.\u001b[39mname]\n\u001b[1;32m   1146\u001b[0m V_name \u001b[39m=\u001b[39m \u001b[39mself\u001b[39m\u001b[39m.\u001b[39m_get_function_name_function_space_name_map(tmesh_name, mesh\u001b[39m.\u001b[39mname)[name]\n\u001b[0;32m-> 1147\u001b[0m V \u001b[39m=\u001b[39m \u001b[39mself\u001b[39;49m\u001b[39m.\u001b[39;49m_load_function_space(mesh, V_name)\n\u001b[1;32m   1148\u001b[0m \u001b[39m# Load vec\u001b[39;00m\n\u001b[1;32m   1149\u001b[0m tV \u001b[39m=\u001b[39m V\u001b[39m.\u001b[39mtopological\n",
      "File \u001b[0;32mPETSc/Log.pyx:115\u001b[0m, in \u001b[0;36mpetsc4py.PETSc.Log.EventDecorator.decorator.wrapped_func\u001b[0;34m()\u001b[0m\n",
      "File \u001b[0;32mPETSc/Log.pyx:116\u001b[0m, in \u001b[0;36mpetsc4py.PETSc.Log.EventDecorator.decorator.wrapped_func\u001b[0;34m()\u001b[0m\n",
      "File \u001b[0;32m~/software/firedrake-adapt/src/firedrake/firedrake/checkpointing.py:1075\u001b[0m, in \u001b[0;36mCheckpointFile._load_function_space\u001b[0;34m(self, mesh, name)\u001b[0m\n\u001b[1;32m   1073\u001b[0m path \u001b[39m=\u001b[39m \u001b[39mself\u001b[39m\u001b[39m.\u001b[39m_path_to_function_space(tmesh\u001b[39m.\u001b[39mname, mesh\u001b[39m.\u001b[39mname, name)\n\u001b[1;32m   1074\u001b[0m element \u001b[39m=\u001b[39m \u001b[39mself\u001b[39m\u001b[39m.\u001b[39m_unpickle(\u001b[39mself\u001b[39m\u001b[39m.\u001b[39mget_attr(path, PREFIX \u001b[39m+\u001b[39m \u001b[39m\"\u001b[39m\u001b[39m_ufl_element\u001b[39m\u001b[39m\"\u001b[39m))\n\u001b[0;32m-> 1075\u001b[0m tV \u001b[39m=\u001b[39m \u001b[39mself\u001b[39;49m\u001b[39m.\u001b[39;49m_load_function_space_topology(tmesh, element)\n\u001b[1;32m   1076\u001b[0m \u001b[39m# Construct function space\u001b[39;00m\n\u001b[1;32m   1077\u001b[0m V \u001b[39m=\u001b[39m impl\u001b[39m.\u001b[39mWithGeometry\u001b[39m.\u001b[39mcreate(tV, mesh)\n",
      "File \u001b[0;32mPETSc/Log.pyx:115\u001b[0m, in \u001b[0;36mpetsc4py.PETSc.Log.EventDecorator.decorator.wrapped_func\u001b[0;34m()\u001b[0m\n",
      "File \u001b[0;32mPETSc/Log.pyx:116\u001b[0m, in \u001b[0;36mpetsc4py.PETSc.Log.EventDecorator.decorator.wrapped_func\u001b[0;34m()\u001b[0m\n",
      "File \u001b[0;32m~/software/firedrake-adapt/src/firedrake/firedrake/checkpointing.py:1106\u001b[0m, in \u001b[0;36mCheckpointFile._load_function_space_topology\u001b[0;34m(self, tmesh, element)\u001b[0m\n\u001b[1;32m   1104\u001b[0m dm\u001b[39m.\u001b[39msetSection(section)\n\u001b[1;32m   1105\u001b[0m base_tmesh \u001b[39m=\u001b[39m tmesh\u001b[39m.\u001b[39m_base_mesh \u001b[39mif\u001b[39;00m \u001b[39misinstance\u001b[39m(tmesh, ExtrudedMeshTopology) \u001b[39melse\u001b[39;00m tmesh\n\u001b[0;32m-> 1106\u001b[0m sfXC \u001b[39m=\u001b[39m base_tmesh\u001b[39m.\u001b[39;49msfXC\n\u001b[1;32m   1107\u001b[0m topology_dm\u001b[39m.\u001b[39msetName(tmesh\u001b[39m.\u001b[39mname)\n\u001b[1;32m   1108\u001b[0m gsf, lsf \u001b[39m=\u001b[39m topology_dm\u001b[39m.\u001b[39msectionLoad(\u001b[39mself\u001b[39m\u001b[39m.\u001b[39mviewer, dm, sfXC)\n",
      "\u001b[0;31mAttributeError\u001b[0m: 'MeshTopology' object has no attribute 'sfXC'"
     ]
    }
   ],
   "source": [
    "# coarse_mesh = RectangleMesh(320, 40, 640e3, 80e3)\n",
    "mesh_hierarchy = MeshHierarchy(coarse_mesh, 1)\n",
    "\n",
    "volumes = get_volumes('steady-state-0', 12, mesh_hierarchy[0])"
   ]
  },
  {
   "cell_type": "code",
   "execution_count": 33,
   "metadata": {},
   "outputs": [
    {
     "data": {
      "text/plain": [
       "Mesh(VectorElement(FiniteElement('Lagrange', triangle, 1), dim=2), 203)"
      ]
     },
     "execution_count": 33,
     "metadata": {},
     "output_type": "execute_result"
    }
   ],
   "source": [
    "Q_in = FunctionSpace(coarse_mesh, family='CG', degree=1)\n",
    "V_in = VectorFunctionSpace(coarse_mesh, family='CG', degree=1)\n",
    "    \n",
    "\n",
    "with DumbCheckpoint(fpath, mode=firedrake.FILE_READ) as chk:\n",
    "    timesteps, indices = chk.get_timesteps()\n",
    "    chk.set_timestep(timesteps[-1], idx=indices[-1])\n",
    "\n",
    "    chk.load(h_in, name='h')\n",
    "    chk.load(u_in, name='u')"
   ]
  },
  {
   "cell_type": "code",
   "execution_count": 35,
   "metadata": {},
   "outputs": [
    {
     "data": {
      "text/plain": [
       "[<matplotlib.lines.Line2D at 0x7f164eb62820>]"
      ]
     },
     "execution_count": 35,
     "metadata": {},
     "output_type": "execute_result"
    },
    {
     "data": {
      "image/png": "[encoded data removed]",
      "text/plain": [
       "<Figure size 640x480 with 1 Axes>"
      ]
     },
     "metadata": {},
     "output_type": "display_data"
    }
   ],
   "source": [
    "plt.plot(np.arange(len(volumes)), volumes)"
   ]
  },
  {
   "cell_type": "code",
   "execution_count": null,
   "metadata": {},
   "outputs": [],
   "source": []
  }
 ],
 "metadata": {
  "kernelspec": {
   "display_name": "firedrake-adapt",
   "language": "python",
   "name": "python3"
  },
  "language_info": {
   "codemirror_mode": {
    "name": "ipython",
    "version": 3
   },
   "file_extension": ".py",
   "mimetype": "text/x-python",
   "name": "python",
   "nbconvert_exporter": "python",
   "pygments_lexer": "ipython3",
   "version": "3.8.10"
  },
  "orig_nbformat": 4,
  "vscode": {
   "interpreter": {
    "hash": "abf1ee6597b23e4879ae8dc9e5b18b9d021b8efb0320a8b878a9fed4720237c8"
   }
  }
 },
 "nbformat": 4,
 "nbformat_minor": 2
}
